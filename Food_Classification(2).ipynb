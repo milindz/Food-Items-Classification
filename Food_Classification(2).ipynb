{
  "nbformat": 4,
  "nbformat_minor": 0,
  "metadata": {
    "colab": {
      "name": "Food_Classification(2).ipynb",
      "provenance": [],
      "collapsed_sections": [],
      "authorship_tag": "ABX9TyMU5RqodQqqoEYLzktoJgNt",
      "include_colab_link": true
    },
    "kernelspec": {
      "name": "python3",
      "display_name": "Python 3"
    },
    "language_info": {
      "name": "python"
    },
    "accelerator": "GPU"
  },
  "cells": [
    {
      "cell_type": "markdown",
      "metadata": {
        "id": "view-in-github",
        "colab_type": "text"
      },
      "source": [
        "<a href=\"https://colab.research.google.com/github/milindz/Food-Items-Classification/blob/main/Food_Classification(2).ipynb\" target=\"_parent\"><img src=\"https://colab.research.google.com/assets/colab-badge.svg\" alt=\"Open In Colab\"/></a>"
      ]
    },
    {
      "cell_type": "code",
      "metadata": {
        "colab": {
          "base_uri": "https://localhost:8080/"
        },
        "id": "bUPVeH_p6XV9",
        "outputId": "1eefe0b0-6fd2-4c6f-bde8-b73fe71eff25"
      },
      "source": [
        "!nvidia-smi"
      ],
      "execution_count": 1,
      "outputs": [
        {
          "output_type": "stream",
          "name": "stdout",
          "text": [
            "Tue Nov 30 13:00:08 2021       \n",
            "+-----------------------------------------------------------------------------+\n",
            "| NVIDIA-SMI 495.44       Driver Version: 460.32.03    CUDA Version: 11.2     |\n",
            "|-------------------------------+----------------------+----------------------+\n",
            "| GPU  Name        Persistence-M| Bus-Id        Disp.A | Volatile Uncorr. ECC |\n",
            "| Fan  Temp  Perf  Pwr:Usage/Cap|         Memory-Usage | GPU-Util  Compute M. |\n",
            "|                               |                      |               MIG M. |\n",
            "|===============================+======================+======================|\n",
            "|   0  Tesla K80           Off  | 00000000:00:04.0 Off |                    0 |\n",
            "| N/A   58C    P8    32W / 149W |      0MiB / 11441MiB |      0%      Default |\n",
            "|                               |                      |                  N/A |\n",
            "+-------------------------------+----------------------+----------------------+\n",
            "                                                                               \n",
            "+-----------------------------------------------------------------------------+\n",
            "| Processes:                                                                  |\n",
            "|  GPU   GI   CI        PID   Type   Process name                  GPU Memory |\n",
            "|        ID   ID                                                   Usage      |\n",
            "|=============================================================================|\n",
            "|  No running processes found                                                 |\n",
            "+-----------------------------------------------------------------------------+\n"
          ]
        }
      ]
    },
    {
      "cell_type": "markdown",
      "metadata": {
        "id": "gJBMt7C28jXy"
      },
      "source": [
        "### Introduction to transfer learning\n",
        "> 🔑**Things we will be focussing in this notebook**:\n",
        "1. Building a transfer learning feature extraction model using Tensorflow hub on a small subset of data (10% of training sample images)\n",
        "2. Introduce Tensorboard callbacks and using Tensorboard to compare our models. "
      ]
    },
    {
      "cell_type": "code",
      "metadata": {
        "colab": {
          "base_uri": "https://localhost:8080/"
        },
        "id": "ioukVgJ67i0-",
        "outputId": "c82c6ea8-df17-47ad-a937-f48892afc683"
      },
      "source": [
        "# Getting data - 10% of all training samples\n",
        "import zipfile\n",
        "\n",
        "# Download data\n",
        "!wget https://storage.googleapis.com/ztm_tf_course/food_vision/10_food_classes_10_percent.zip\n",
        "\n",
        "# Unzip the downloaded file\n",
        "zip_ref = zipfile.ZipFile(\"10_food_classes_10_percent.zip\", \"r\")\n",
        "zip_ref.extractall()\n",
        "zip_ref.close()"
      ],
      "execution_count": 2,
      "outputs": [
        {
          "output_type": "stream",
          "name": "stdout",
          "text": [
            "--2021-11-30 13:13:46--  https://storage.googleapis.com/ztm_tf_course/food_vision/10_food_classes_10_percent.zip\n",
            "Resolving storage.googleapis.com (storage.googleapis.com)... 74.125.202.128, 64.233.181.128, 173.194.194.128, ...\n",
            "Connecting to storage.googleapis.com (storage.googleapis.com)|74.125.202.128|:443... connected.\n",
            "HTTP request sent, awaiting response... 200 OK\n",
            "Length: 168546183 (161M) [application/zip]\n",
            "Saving to: ‘10_food_classes_10_percent.zip’\n",
            "\n",
            "10_food_classes_10_ 100%[===================>] 160.74M   156MB/s    in 1.0s    \n",
            "\n",
            "2021-11-30 13:13:47 (156 MB/s) - ‘10_food_classes_10_percent.zip’ saved [168546183/168546183]\n",
            "\n"
          ]
        }
      ]
    },
    {
      "cell_type": "code",
      "metadata": {
        "colab": {
          "base_uri": "https://localhost:8080/"
        },
        "id": "MIq9FJFX7i3v",
        "outputId": "a998d8cc-1ab6-493a-99c0-8664f5f87f61"
      },
      "source": [
        "# Checking the image files in each folder\n",
        "import os\n",
        "for  dirpath,dirnames,filenames in os.walk(\"/content/10_food_classes_10_percent\"):\n",
        "  print(f\"There are {len(dirnames)} directories and {len(filenames)}files in {dirpath}\")\n"
      ],
      "execution_count": 8,
      "outputs": [
        {
          "output_type": "stream",
          "name": "stdout",
          "text": [
            "There are 2 directories and 0files in /content/10_food_classes_10_percent\n",
            "There are 10 directories and 0files in /content/10_food_classes_10_percent/train\n",
            "There are 0 directories and 75files in /content/10_food_classes_10_percent/train/pizza\n",
            "There are 0 directories and 75files in /content/10_food_classes_10_percent/train/ice_cream\n",
            "There are 0 directories and 75files in /content/10_food_classes_10_percent/train/chicken_wings\n",
            "There are 0 directories and 75files in /content/10_food_classes_10_percent/train/hamburger\n",
            "There are 0 directories and 75files in /content/10_food_classes_10_percent/train/grilled_salmon\n",
            "There are 0 directories and 75files in /content/10_food_classes_10_percent/train/fried_rice\n",
            "There are 0 directories and 75files in /content/10_food_classes_10_percent/train/sushi\n",
            "There are 0 directories and 75files in /content/10_food_classes_10_percent/train/ramen\n",
            "There are 0 directories and 75files in /content/10_food_classes_10_percent/train/steak\n",
            "There are 0 directories and 75files in /content/10_food_classes_10_percent/train/chicken_curry\n",
            "There are 10 directories and 0files in /content/10_food_classes_10_percent/test\n",
            "There are 0 directories and 250files in /content/10_food_classes_10_percent/test/pizza\n",
            "There are 0 directories and 250files in /content/10_food_classes_10_percent/test/ice_cream\n",
            "There are 0 directories and 250files in /content/10_food_classes_10_percent/test/chicken_wings\n",
            "There are 0 directories and 250files in /content/10_food_classes_10_percent/test/hamburger\n",
            "There are 0 directories and 250files in /content/10_food_classes_10_percent/test/grilled_salmon\n",
            "There are 0 directories and 250files in /content/10_food_classes_10_percent/test/fried_rice\n",
            "There are 0 directories and 250files in /content/10_food_classes_10_percent/test/sushi\n",
            "There are 0 directories and 250files in /content/10_food_classes_10_percent/test/ramen\n",
            "There are 0 directories and 250files in /content/10_food_classes_10_percent/test/steak\n",
            "There are 0 directories and 250files in /content/10_food_classes_10_percent/test/chicken_curry\n"
          ]
        }
      ]
    },
    {
      "cell_type": "markdown",
      "metadata": {
        "id": "BPETUpUN_8Pm"
      },
      "source": [
        "Now, training directories have only 75 images rather than 750 images (10 % of train data). But, test directories have the same amount of data as we as in the previous notebook."
      ]
    },
    {
      "cell_type": "code",
      "metadata": {
        "id": "ppHFXOqTAeLi"
      },
      "source": [
        "os.walk??"
      ],
      "execution_count": 9,
      "outputs": []
    },
    {
      "cell_type": "code",
      "metadata": {
        "id": "CWPaSilfAj00"
      },
      "source": [
        "import tensorflow as tf"
      ],
      "execution_count": 10,
      "outputs": []
    },
    {
      "cell_type": "code",
      "metadata": {
        "colab": {
          "base_uri": "https://localhost:8080/"
        },
        "id": "sJVEQ1zH7i8O",
        "outputId": "efda547d-a693-47c1-8161-f6db1b04df5f"
      },
      "source": [
        "# Data Preprocessing using ImageDataGenerator class\n",
        "from tensorflow.keras.preprocessing.image import ImageDataGenerator\n",
        "\n",
        "train_dir = \"/content/10_food_classes_10_percent/train/\"\n",
        "test_dir = \"/content/10_food_classes_10_percent/test/\"\n",
        "\n",
        "\n",
        "IMG_SHAPE = (224,224)\n",
        "\n",
        "\n",
        "train_datagen = ImageDataGenerator(rescale = 1/255.)\n",
        "test_datagen = ImageDataGenerator(rescale = 1/255.)\n",
        "\n",
        "train_data_10_percent = train_datagen.flow_from_directory(train_dir,\n",
        "                                               target_size=IMG_SHAPE,\n",
        "                                               batch_size= 32,\n",
        "                                               class_mode=\"categorical\")\n",
        "\n",
        "test_data = test_datagen.flow_from_directory(test_dir,\n",
        "                                              target_size=IMG_SHAPE,\n",
        "                                              batch_size= 32,\n",
        "                                              class_mode=\"categorical\")"
      ],
      "execution_count": 12,
      "outputs": [
        {
          "output_type": "stream",
          "name": "stdout",
          "text": [
            "Found 750 images belonging to 10 classes.\n",
            "Found 2500 images belonging to 10 classes.\n"
          ]
        }
      ]
    },
    {
      "cell_type": "code",
      "metadata": {
        "id": "14-6M8jL7i-o"
      },
      "source": [
        "\n"
      ],
      "execution_count": null,
      "outputs": []
    },
    {
      "cell_type": "code",
      "metadata": {
        "id": "21Hkpmkl7jAv"
      },
      "source": [
        "# Creating Tensorboard Callback function\n",
        "import datetime\n",
        "def tensorboard_callback(dir_name, experiment_name):\n",
        "  log_dir = dir_name + \"/\" + experiment_name+ \"/\" + datetime.datetime.now().strftime(\"%Y%m%d-%H%M%S\")\n",
        "  tensorboard_callback = tf.keras.callbacks.TensorBoard(log_dir = log_dir)\n",
        "  print(f\"Saving log file to {log_dir}\")\n",
        "  return tensorboard_callback\n"
      ],
      "execution_count": 24,
      "outputs": []
    },
    {
      "cell_type": "code",
      "metadata": {
        "id": "RjDWxs677jC4"
      },
      "source": [
        "# Getting access to pre_trained models using tensorflow hub"
      ],
      "execution_count": 14,
      "outputs": []
    },
    {
      "cell_type": "markdown",
      "metadata": {
        "id": "h_B_ea5YJL2W"
      },
      "source": [
        "####  Model we will be using are-\n",
        "1. ResNetV2 - a state of the art computer vision model \n",
        "2. EfficientNet - a state of the art computer vision "
      ]
    },
    {
      "cell_type": "code",
      "metadata": {
        "id": "LMA01j5v7jFW"
      },
      "source": [
        "import tensorflow_hub as hub\n",
        "from tensorflow.keras import layers"
      ],
      "execution_count": 15,
      "outputs": []
    },
    {
      "cell_type": "code",
      "metadata": {
        "id": "r2XUkYg47jKo"
      },
      "source": [
        "#resnet50 feature vector\n",
        "resnet_url = \"https://tfhub.dev/google/imagenet/resnet_v2_50/feature_vector/4\"\n",
        "#EfficientB0 feature vector\n",
        "efficient_net_url = \"https://tfhub.dev/tensorflow/efficientnet/b0/feature-vector/1\""
      ],
      "execution_count": 16,
      "outputs": []
    },
    {
      "cell_type": "code",
      "metadata": {
        "id": "4VE8u5ES7jM2"
      },
      "source": [
        "# Fucntion to create the models\n",
        "def make_model(model_url,num_classes = 10):\n",
        "  # Downloading model from the above url as saving it as a keras layer\n",
        "  feature_vector_layer =  hub.KerasLayer(model_url,\n",
        "                                         trainable = False,\n",
        "                                         name = \"feature_vector_layer\",\n",
        "                                         input_shape =  IMG_SHAPE+(3,))\n",
        "  #Creating the model\n",
        "  model = tf.keras.Sequential([\n",
        "          feature_vector_layer,\n",
        "          layers.Dense(num_classes, activation=\"softmax\",name = \"output_layer\")                     \n",
        "  ])\n",
        "\n",
        "  return model\n",
        "  "
      ],
      "execution_count": 17,
      "outputs": []
    },
    {
      "cell_type": "code",
      "metadata": {
        "id": "ygu-lF917jPQ"
      },
      "source": [
        "# Resnet model\n",
        "resnet_model = make_model(resnet_url, num_classes=train_data_10_percent.num_classes)\n",
        "\n",
        "# compile the model\n",
        "resnet_model.compile(loss='categorical_crossentropy',\n",
        "                     optimizer=tf.keras.optimizers.Adam(),\n",
        "                     metrics=['accuracy'])"
      ],
      "execution_count": 18,
      "outputs": []
    },
    {
      "cell_type": "code",
      "metadata": {
        "colab": {
          "base_uri": "https://localhost:8080/"
        },
        "id": "ZCptdBViS_8S",
        "outputId": "628c5594-f4c6-4f4e-c67c-299db2f0d79a"
      },
      "source": [
        "resnet_model.summary()"
      ],
      "execution_count": 28,
      "outputs": [
        {
          "output_type": "stream",
          "name": "stdout",
          "text": [
            "Model: \"sequential\"\n",
            "_________________________________________________________________\n",
            " Layer (type)                Output Shape              Param #   \n",
            "=================================================================\n",
            " feature_vector_layer (Keras  (None, 2048)             23564800  \n",
            " Layer)                                                          \n",
            "                                                                 \n",
            " output_layer (Dense)        (None, 10)                20490     \n",
            "                                                                 \n",
            "=================================================================\n",
            "Total params: 23,585,290\n",
            "Trainable params: 20,490\n",
            "Non-trainable params: 23,564,800\n",
            "_________________________________________________________________\n"
          ]
        }
      ]
    },
    {
      "cell_type": "code",
      "metadata": {
        "colab": {
          "base_uri": "https://localhost:8080/"
        },
        "id": "TcLYR0XN7jR4",
        "outputId": "0aca0834-192c-4a4a-a43c-8b4230b0b72f"
      },
      "source": [
        "# Fitting the model\n",
        "resnet_history = resnet_model.fit(train_data_10_percent,\n",
        "                                  epochs = 5,\n",
        "                                  steps_per_epoch = len(train_data_10_percent),\n",
        "                                  validation_data = test_data,\n",
        "                                  validation_steps = len(test_data),\n",
        "                                  callbacks = [tensorboard_callback(dir_name=\"tensorboard_logs\",\n",
        "                                                                    experiment_name = \"resnet50\")])"
      ],
      "execution_count": 25,
      "outputs": [
        {
          "output_type": "stream",
          "name": "stdout",
          "text": [
            "Saving log file to tensorboard_logs/resnet50/20211130-143750\n",
            "Epoch 1/5\n",
            "24/24 [==============================] - 39s 1s/step - loss: 1.9082 - accuracy: 0.3773 - val_loss: 1.2141 - val_accuracy: 0.6160\n",
            "Epoch 2/5\n",
            "24/24 [==============================] - 22s 931ms/step - loss: 0.9037 - accuracy: 0.7347 - val_loss: 0.8860 - val_accuracy: 0.7120\n",
            "Epoch 3/5\n",
            "24/24 [==============================] - 22s 929ms/step - loss: 0.6246 - accuracy: 0.8280 - val_loss: 0.7548 - val_accuracy: 0.7660\n",
            "Epoch 4/5\n",
            "24/24 [==============================] - 22s 928ms/step - loss: 0.4804 - accuracy: 0.8867 - val_loss: 0.7080 - val_accuracy: 0.7688\n",
            "Epoch 5/5\n",
            "24/24 [==============================] - 22s 926ms/step - loss: 0.3822 - accuracy: 0.9240 - val_loss: 0.6744 - val_accuracy: 0.7804\n"
          ]
        }
      ]
    },
    {
      "cell_type": "markdown",
      "metadata": {
        "id": "LbGZ2y7iSciW"
      },
      "source": [
        "Only after running for 5 epochs, the ResNetV250 feature extraction model was able to outperform the model we created in the previous notebook (Food_Classification(1)), achieving around 92% accuracy on the training set and nearly 79% accuracy on the test set."
      ]
    },
    {
      "cell_type": "code",
      "metadata": {
        "id": "Q3xT6Wwj7jT_"
      },
      "source": [
        "import matplotlib.pyplot as plt\n",
        "\n",
        "# Plot the validation and training data separately\n",
        "def plot_loss_curves(history):\n",
        "\n",
        "  loss = history.history['loss']\n",
        "  val_loss = history.history['val_loss']\n",
        "\n",
        "  accuracy = history.history['accuracy']\n",
        "  val_accuracy = history.history['val_accuracy']\n",
        "\n",
        "  epochs = range(len(history.history['loss']))\n",
        "\n",
        "  # Plot loss\n",
        "  plt.plot(epochs, loss, label='training_loss')\n",
        "  plt.plot(epochs, val_loss, label='val_loss')\n",
        "  plt.title('Loss')\n",
        "  plt.xlabel('Epochs')\n",
        "  plt.legend()\n",
        "\n",
        "  # Plot accuracy\n",
        "  plt.figure()\n",
        "  plt.plot(epochs, accuracy, label='training_accuracy')\n",
        "  plt.plot(epochs, val_accuracy, label='val_accuracy')\n",
        "  plt.title('Accuracy')\n",
        "  plt.xlabel('Epochs')\n",
        "  plt.legend();"
      ],
      "execution_count": 26,
      "outputs": []
    },
    {
      "cell_type": "code",
      "metadata": {
        "colab": {
          "base_uri": "https://localhost:8080/",
          "height": 573
        },
        "id": "o4KgnCt67jWn",
        "outputId": "bcc9b7e3-2447-43ca-a4f4-316d601ce3e5"
      },
      "source": [
        "plot_loss_curves(resnet_history)"
      ],
      "execution_count": 27,
      "outputs": [
        {
          "output_type": "display_data",
          "data": {
            "image/png": "[encoded data removed]",
            "text/plain": [
              "<Figure size 432x288 with 1 Axes>"
            ]
          },
          "metadata": {
            "needs_background": "light"
          }
        },
        {
          "output_type": "display_data",
          "data": {
            "image/png": "[encoded data removed]",
            "text/plain": [
              "<Figure size 432x288 with 1 Axes>"
            ]
          },
          "metadata": {
            "needs_background": "light"
          }
        }
      ]
    },
    {
      "cell_type": "code",
      "metadata": {
        "id": "3rlLF9rH7jZA"
      },
      "source": [
        "#EfficientNetB0 model\n",
        "# Creating the model\n",
        "efficient_net =  make_model(efficient_net_url,num_classes=train_data_10_percent.num_classes)\n",
        "\n",
        "# Compile the model\n",
        "efficient_net.compile(loss = \"categorical_crossentropy\",\n",
        "                      optimizer = tf.keras.optimizers.Adam(),\n",
        "                      metrics = [\"accuracy\"])"
      ],
      "execution_count": 29,
      "outputs": []
    },
    {
      "cell_type": "code",
      "metadata": {
        "colab": {
          "base_uri": "https://localhost:8080/"
        },
        "id": "zUX6uJGIVc6I",
        "outputId": "78c88801-6148-48cb-dea2-b93eb05187cc"
      },
      "source": [
        "efficient_net.summary()"
      ],
      "execution_count": 32,
      "outputs": [
        {
          "output_type": "stream",
          "name": "stdout",
          "text": [
            "Model: \"sequential_1\"\n",
            "_________________________________________________________________\n",
            " Layer (type)                Output Shape              Param #   \n",
            "=================================================================\n",
            " feature_vector_layer (Keras  (None, 1280)             4049564   \n",
            " Layer)                                                          \n",
            "                                                                 \n",
            " output_layer (Dense)        (None, 10)                12810     \n",
            "                                                                 \n",
            "=================================================================\n",
            "Total params: 4,062,374\n",
            "Trainable params: 12,810\n",
            "Non-trainable params: 4,049,564\n",
            "_________________________________________________________________\n"
          ]
        }
      ]
    },
    {
      "cell_type": "code",
      "metadata": {
        "colab": {
          "base_uri": "https://localhost:8080/"
        },
        "id": "Jn4yUNHi7jbZ",
        "outputId": "e85fd956-960a-4957-f3fc-d27e8f577174"
      },
      "source": [
        "#Fitting the model\n",
        "efficient_history =  efficient_net.fit(train_data_10_percent,\n",
        "                                       epochs = 5,\n",
        "                                       steps_per_epoch =  len(train_data_10_percent),\n",
        "                                       validation_data =  test_data,\n",
        "                                       validation_steps = len(test_data),\n",
        "                                       callbacks = [tensorboard_callback(dir_name=\"tensorboard_logs\",\n",
        "                                                                         experiment_name = \"efficient_net\")])"
      ],
      "execution_count": 31,
      "outputs": [
        {
          "output_type": "stream",
          "name": "stdout",
          "text": [
            "Saving log file to tensorboard_logs/efficient_net/20211130-144856\n",
            "Epoch 1/5\n",
            "24/24 [==============================] - 34s 917ms/step - loss: 1.8304 - accuracy: 0.4333 - val_loss: 1.2818 - val_accuracy: 0.7196\n",
            "Epoch 2/5\n",
            "24/24 [==============================] - 25s 1s/step - loss: 1.0507 - accuracy: 0.7667 - val_loss: 0.8599 - val_accuracy: 0.8184\n",
            "Epoch 3/5\n",
            "24/24 [==============================] - 20s 847ms/step - loss: 0.7561 - accuracy: 0.8373 - val_loss: 0.6972 - val_accuracy: 0.8424\n",
            "Epoch 4/5\n",
            "24/24 [==============================] - 25s 1s/step - loss: 0.6061 - accuracy: 0.8693 - val_loss: 0.6097 - val_accuracy: 0.8496\n",
            "Epoch 5/5\n",
            "24/24 [==============================] - 19s 825ms/step - loss: 0.5149 - accuracy: 0.8880 - val_loss: 0.5580 - val_accuracy: 0.8584\n"
          ]
        }
      ]
    },
    {
      "cell_type": "code",
      "metadata": {
        "colab": {
          "base_uri": "https://localhost:8080/",
          "height": 573
        },
        "id": "BK_mmvXe7jd3",
        "outputId": "9c788a80-b4cc-4425-fdc1-2ec6f0000ae9"
      },
      "source": [
        "plot_loss_curves(efficient_history)"
      ],
      "execution_count": 33,
      "outputs": [
        {
          "output_type": "display_data",
          "data": {
            "image/png": "[encoded data removed]",
            "text/plain": [
              "<Figure size 432x288 with 1 Axes>"
            ]
          },
          "metadata": {
            "needs_background": "light"
          }
        },
        {
          "output_type": "display_data",
          "data": {
            "image/png": "[encoded data removed]",
            "text/plain": [
              "<Figure size 432x288 with 1 Axes>"
            ]
          },
          "metadata": {
            "needs_background": "light"
          }
        }
      ]
    },
    {
      "cell_type": "code",
      "metadata": {
        "colab": {
          "base_uri": "https://localhost:8080/"
        },
        "id": "2x9RFP6y7jgJ",
        "outputId": "71be6f7d-4b84-4ab2-e624-c14d346ed5a6"
      },
      "source": [
        "## Comapring models using tensorboard\n",
        "## Uplaoding experiment to Tensorboard.dev\n",
        "!tensorboard dev upload --logdir ./tensorboard_logs/ \\\n",
        "  --name \"EfficientNetB0 vs. ResNet50V2\" \\  # experiment name\n",
        "  --description \"Comparing two different TF Hub feature extraction models architectures using 10% of training images\" \\\n",
        "  --one_shot  # Exits the TensorBoardyu uploader once uploading is finished."
      ],
      "execution_count": 34,
      "outputs": [
        {
          "output_type": "stream",
          "name": "stdout",
          "text": [
            "\n",
            "***** TensorBoard Uploader *****\n",
            "\n",
            "This will upload your TensorBoard logs to https://tensorboard.dev/ from\n",
            "the following directory:\n",
            "\n",
            "./tensorboard_logs/\n",
            "\n",
            "This TensorBoard will be visible to everyone. Do not upload sensitive\n",
            "data.\n",
            "\n",
            "Your use of this service is subject to Google's Terms of Service\n",
            "<https://policies.google.com/terms> and Privacy Policy\n",
            "<https://policies.google.com/privacy>, and TensorBoard.dev's Terms of Service\n",
            "<https://tensorboard.dev/policy/terms/>.\n",
            "\n",
            "This notice will not be shown again while you are logged into the uploader.\n",
            "To log out, run `tensorboard dev auth revoke`.\n",
            "\n",
            "Continue? (yes/NO) yes\n",
            "\n",
            "Please visit this URL to authorize this application: https://accounts.google.com/o/oauth2/auth?response_type=code&client_id=373649185512-8v619h5kft38l4456nm2dj4ubeqsrvh6.apps.googleusercontent.com&redirect_uri=urn%3Aietf%3Awg%3Aoauth%3A2.0%3Aoob&scope=openid+https%3A%2F%2Fwww.googleapis.com%2Fauth%2Fuserinfo.email&state=hxZzAqEqsBCQcxEMuRs90ilpSjy8JD&prompt=consent&access_type=offline\n",
            "Enter the authorization code: 4/1AX4XfWiVt2poknP_yDWeTehlkrSC69fizp_-lt_GpYOTNhg9_Dwgvti385c\n",
            "\n",
            "\n",
            "New experiment created. View your TensorBoard at: https://tensorboard.dev/experiment/En8wWQtWRqyOxeXfDfWJGg/\n",
            "\n",
            "\u001b[1m[2021-11-30T14:57:07]\u001b[0m Started scanning logdir.\n",
            "\u001b[1m[2021-11-30T14:57:09]\u001b[0m Total uploaded: 60 scalars, 0 tensors, 2 binary objects (5.6 MB)\n",
            "\u001b[1m[2021-11-30T14:57:09]\u001b[0m Done scanning logdir.\n",
            "\n",
            "\n",
            "Done. View your TensorBoard at https://tensorboard.dev/experiment/En8wWQtWRqyOxeXfDfWJGg/\n"
          ]
        }
      ]
    },
    {
      "cell_type": "code",
      "metadata": {
        "colab": {
          "base_uri": "https://localhost:8080/"
        },
        "id": "1mDfnZm27jiT",
        "outputId": "33081906-4abe-4580-e5c1-38bb8419079a"
      },
      "source": [
        "!tensorboard dev list  #List out the experiments uploaded"
      ],
      "execution_count": 35,
      "outputs": [
        {
          "output_type": "stream",
          "name": "stdout",
          "text": [
            "https://tensorboard.dev/experiment/En8wWQtWRqyOxeXfDfWJGg/\n",
            "\tName                 EfficientNetB0 vs. ResNet50V2\n",
            "\tDescription          Comparing two different TF Hub feature extraction models architectures using 10% of training images\n",
            "\tId                   En8wWQtWRqyOxeXfDfWJGg\n",
            "\tCreated              2021-11-30 14:57:07 (2 minutes ago)\n",
            "\tUpdated              2021-11-30 14:57:09 (2 minutes ago)\n",
            "\tRuns                 4\n",
            "\tTags                 5\n",
            "\tScalars              60\n",
            "\tTensor bytes         0\n",
            "\tBinary object bytes  5908558\n",
            "Total: 1 experiment(s)\n"
          ]
        }
      ]
    },
    {
      "cell_type": "code",
      "metadata": {
        "colab": {
          "base_uri": "https://localhost:8080/"
        },
        "id": "40SHlwO0TRC0",
        "outputId": "4f67cfd7-cd4b-4344-e4ba-c9cf56dc3591"
      },
      "source": [
        "!tensorboard dev delete --experiment_id En8wWQtWRqyOxeXfDfWJGg"
      ],
      "execution_count": 36,
      "outputs": [
        {
          "output_type": "stream",
          "name": "stdout",
          "text": [
            "Deleted experiment En8wWQtWRqyOxeXfDfWJGg.\n"
          ]
        }
      ]
    },
    {
      "cell_type": "code",
      "metadata": {
        "colab": {
          "base_uri": "https://localhost:8080/"
        },
        "id": "RvM4nm6YTRFR",
        "outputId": "4f2192e6-14fe-492a-9d10-8b8d8e6d566d"
      },
      "source": [
        "!tensorboard dev list"
      ],
      "execution_count": 37,
      "outputs": [
        {
          "output_type": "stream",
          "name": "stdout",
          "text": [
            "No experiments. Use `tensorboard dev upload` to get started.\n"
          ]
        }
      ]
    },
    {
      "cell_type": "code",
      "metadata": {
        "id": "cPNVdmBLTRHt"
      },
      "source": [
        ""
      ],
      "execution_count": null,
      "outputs": []
    },
    {
      "cell_type": "code",
      "metadata": {
        "id": "DeIRTeOaTRJ8"
      },
      "source": [
        ""
      ],
      "execution_count": null,
      "outputs": []
    },
    {
      "cell_type": "code",
      "metadata": {
        "id": "lTRmptcOTRMU"
      },
      "source": [
        ""
      ],
      "execution_count": null,
      "outputs": []
    },
    {
      "cell_type": "code",
      "metadata": {
        "id": "Ar8fAneBTROz"
      },
      "source": [
        ""
      ],
      "execution_count": null,
      "outputs": []
    },
    {
      "cell_type": "code",
      "metadata": {
        "id": "cMwV4b6zTRQ2"
      },
      "source": [
        ""
      ],
      "execution_count": null,
      "outputs": []
    },
    {
      "cell_type": "code",
      "metadata": {
        "id": "8yKQ0qKvTRTg"
      },
      "source": [
        ""
      ],
      "execution_count": null,
      "outputs": []
    },
    {
      "cell_type": "code",
      "metadata": {
        "id": "cedg022cTRVs"
      },
      "source": [
        ""
      ],
      "execution_count": null,
      "outputs": []
    },
    {
      "cell_type": "code",
      "metadata": {
        "id": "O4_PmStKX8Wz"
      },
      "source": [
        ""
      ],
      "execution_count": null,
      "outputs": []
    },
    {
      "cell_type": "code",
      "metadata": {
        "id": "jE0nQPQQX8b2"
      },
      "source": [
        ""
      ],
      "execution_count": null,
      "outputs": []
    },
    {
      "cell_type": "code",
      "metadata": {
        "id": "NJ9uGmICX8gd"
      },
      "source": [
        ""
      ],
      "execution_count": null,
      "outputs": []
    },
    {
      "cell_type": "code",
      "metadata": {
        "id": "wJ-38gIkX8iw"
      },
      "source": [
        ""
      ],
      "execution_count": null,
      "outputs": []
    },
    {
      "cell_type": "code",
      "metadata": {
        "id": "i_vqA1n4X8mP"
      },
      "source": [
        ""
      ],
      "execution_count": null,
      "outputs": []
    },
    {
      "cell_type": "code",
      "metadata": {
        "id": "P2kXW4qeX8n1"
      },
      "source": [
        ""
      ],
      "execution_count": null,
      "outputs": []
    },
    {
      "cell_type": "code",
      "metadata": {
        "id": "vSIZdcDgX8ql"
      },
      "source": [
        ""
      ],
      "execution_count": null,
      "outputs": []
    },
    {
      "cell_type": "code",
      "metadata": {
        "id": "BQdW5s9LX8tO"
      },
      "source": [
        ""
      ],
      "execution_count": null,
      "outputs": []
    },
    {
      "cell_type": "code",
      "metadata": {
        "id": "T3cG7wYiX8vW"
      },
      "source": [
        ""
      ],
      "execution_count": null,
      "outputs": []
    },
    {
      "cell_type": "code",
      "metadata": {
        "id": "CXk-VR0ZX8x8"
      },
      "source": [
        ""
      ],
      "execution_count": null,
      "outputs": []
    },
    {
      "cell_type": "code",
      "metadata": {
        "id": "_7Bv-4IFX80u"
      },
      "source": [
        ""
      ],
      "execution_count": null,
      "outputs": []
    },
    {
      "cell_type": "code",
      "metadata": {
        "id": "z__Ejvt0X828"
      },
      "source": [
        ""
      ],
      "execution_count": null,
      "outputs": []
    },
    {
      "cell_type": "code",
      "metadata": {
        "id": "D-t68OhsX85T"
      },
      "source": [
        ""
      ],
      "execution_count": null,
      "outputs": []
    },
    {
      "cell_type": "code",
      "metadata": {
        "id": "pEnaU4y7X88q"
      },
      "source": [
        ""
      ],
      "execution_count": null,
      "outputs": []
    },
    {
      "cell_type": "code",
      "metadata": {
        "id": "FfZo4X3kX8-X"
      },
      "source": [
        ""
      ],
      "execution_count": null,
      "outputs": []
    },
    {
      "cell_type": "code",
      "metadata": {
        "id": "BgFkgckLX9A_"
      },
      "source": [
        ""
      ],
      "execution_count": null,
      "outputs": []
    },
    {
      "cell_type": "code",
      "metadata": {
        "id": "5j_4ZQcNX9Do"
      },
      "source": [
        ""
      ],
      "execution_count": null,
      "outputs": []
    },
    {
      "cell_type": "code",
      "metadata": {
        "id": "F5V0aFHwX9HE"
      },
      "source": [
        ""
      ],
      "execution_count": null,
      "outputs": []
    },
    {
      "cell_type": "code",
      "metadata": {
        "id": "Mmn65Y86X9In"
      },
      "source": [
        ""
      ],
      "execution_count": null,
      "outputs": []
    }
  ]
}